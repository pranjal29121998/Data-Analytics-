{
 "cells": [
  {
   "cell_type": "code",
   "execution_count": 2,
   "metadata": {},
   "outputs": [],
   "source": [
    "import numpy as np"
   ]
  },
  {
   "cell_type": "code",
   "execution_count": 4,
   "metadata": {},
   "outputs": [
    {
     "data": {
      "text/plain": [
       "array([[0.11265171, 0.36981752, 0.50567324, 0.17688009, 0.95565127],\n",
       "       [0.26389068, 0.48930256, 0.3569989 , 0.1665544 , 0.37571573],\n",
       "       [0.3956903 , 0.9401187 , 0.10203714, 0.89936963, 0.55532569],\n",
       "       [0.37721127, 0.56978506, 0.73525308, 0.7503126 , 0.95772701],\n",
       "       [0.13475401, 0.11738278, 0.42761014, 0.99731881, 0.91971682]])"
      ]
     },
     "execution_count": 4,
     "metadata": {},
     "output_type": "execute_result"
    }
   ],
   "source": [
    "arr = np.random.rand(5,5)\n",
    "arr"
   ]
  },
  {
   "cell_type": "markdown",
   "metadata": {},
   "source": [
    "### sort an array along a specified axis"
   ]
  },
  {
   "cell_type": "code",
   "execution_count": 5,
   "metadata": {},
   "outputs": [
    {
     "name": "stdout",
     "output_type": "stream",
     "text": [
      "[[0.11265171 0.11738278 0.10203714 0.1665544  0.37571573]\n",
      " [0.13475401 0.36981752 0.3569989  0.17688009 0.55532569]\n",
      " [0.26389068 0.48930256 0.42761014 0.7503126  0.91971682]\n",
      " [0.37721127 0.56978506 0.50567324 0.89936963 0.95565127]\n",
      " [0.3956903  0.9401187  0.73525308 0.99731881 0.95772701]]\n"
     ]
    }
   ],
   "source": [
    "# sort along the row and return a copy\n",
    "print(np.sort(arr, axis=0))   "
   ]
  },
  {
   "cell_type": "code",
   "execution_count": 6,
   "metadata": {},
   "outputs": [
    {
     "name": "stdout",
     "output_type": "stream",
     "text": [
      "[[0.11265171 0.11738278 0.10203714 0.1665544  0.37571573]\n",
      " [0.13475401 0.36981752 0.3569989  0.17688009 0.55532569]\n",
      " [0.26389068 0.48930256 0.42761014 0.7503126  0.91971682]\n",
      " [0.37721127 0.56978506 0.50567324 0.89936963 0.95565127]\n",
      " [0.3956903  0.9401187  0.73525308 0.99731881 0.95772701]]\n"
     ]
    }
   ],
   "source": [
    "# sort along the row in place\n",
    "arr.sort(axis=0)\n",
    "print(arr)"
   ]
  },
  {
   "cell_type": "code",
   "execution_count": 7,
   "metadata": {},
   "outputs": [
    {
     "name": "stdout",
     "output_type": "stream",
     "text": [
      "[[0.10203714 0.11265171 0.11738278 0.1665544  0.37571573]\n",
      " [0.13475401 0.17688009 0.3569989  0.36981752 0.55532569]\n",
      " [0.26389068 0.42761014 0.48930256 0.7503126  0.91971682]\n",
      " [0.37721127 0.50567324 0.56978506 0.89936963 0.95565127]\n",
      " [0.3956903  0.73525308 0.9401187  0.95772701 0.99731881]]\n"
     ]
    }
   ],
   "source": [
    "# sort along the column and return a copy\n",
    "print(np.sort(arr, axis=1))    "
   ]
  },
  {
   "cell_type": "code",
   "execution_count": 8,
   "metadata": {},
   "outputs": [
    {
     "name": "stdout",
     "output_type": "stream",
     "text": [
      "[[0.10203714 0.11265171 0.11738278 0.1665544  0.37571573]\n",
      " [0.13475401 0.17688009 0.3569989  0.36981752 0.55532569]\n",
      " [0.26389068 0.42761014 0.48930256 0.7503126  0.91971682]\n",
      " [0.37721127 0.50567324 0.56978506 0.89936963 0.95565127]\n",
      " [0.3956903  0.73525308 0.9401187  0.95772701 0.99731881]]\n"
     ]
    }
   ],
   "source": [
    "# sort along the column in place\n",
    "arr.sort(axis=1)    \n",
    "print(arr)"
   ]
  },
  {
   "cell_type": "markdown",
   "metadata": {},
   "source": [
    "### compute the indices that would sort an array along a specified axis"
   ]
  },
  {
   "cell_type": "code",
   "execution_count": 7,
   "metadata": {},
   "outputs": [],
   "source": [
    "arr = np.random.rand(5,5)"
   ]
  },
  {
   "cell_type": "code",
   "execution_count": 8,
   "metadata": {},
   "outputs": [
    {
     "name": "stdout",
     "output_type": "stream",
     "text": [
      "[[1 1 2 2 0]\n",
      " [2 2 1 3 2]\n",
      " [0 4 0 1 4]\n",
      " [4 3 3 0 3]\n",
      " [3 0 4 4 1]]\n"
     ]
    }
   ],
   "source": [
    "# along the row\n",
    "print(np.argsort(arr, axis=0))"
   ]
  },
  {
   "cell_type": "code",
   "execution_count": 9,
   "metadata": {},
   "outputs": [
    {
     "name": "stdout",
     "output_type": "stream",
     "text": [
      "[[4 3 2 0 1]\n",
      " [0 3 1 2 4]\n",
      " [3 2 4 0 1]\n",
      " [3 4 0 1 2]\n",
      " [4 0 1 2 3]]\n"
     ]
    }
   ],
   "source": [
    "# along the column\n",
    "print(np.argsort(arr, axis=1))"
   ]
  },
  {
   "cell_type": "code",
   "execution_count": 10,
   "metadata": {},
   "outputs": [
    {
     "name": "stdout",
     "output_type": "stream",
     "text": [
      "[13 12  5 18  4  8  6  7 14  3 10 24  2 11  0 19 20 21  9 15 16 17 22  1\n",
      " 23]\n"
     ]
    }
   ],
   "source": [
    "# if axis=None, return the indices of a flattened array\n",
    "print(np.argsort(arr, axis=None))"
   ]
  }
 ],
 "metadata": {
  "kernelspec": {
   "display_name": "Python 3 (ipykernel)",
   "language": "python",
   "name": "python3"
  },
  "language_info": {
   "codemirror_mode": {
    "name": "ipython",
    "version": 3
   },
   "file_extension": ".py",
   "mimetype": "text/x-python",
   "name": "python",
   "nbconvert_exporter": "python",
   "pygments_lexer": "ipython3",
   "version": "3.9.12"
  }
 },
 "nbformat": 4,
 "nbformat_minor": 2
}
