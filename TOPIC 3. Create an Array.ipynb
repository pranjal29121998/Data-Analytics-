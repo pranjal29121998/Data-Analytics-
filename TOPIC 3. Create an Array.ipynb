{
 "cells": [
  {
   "cell_type": "code",
   "execution_count": 1,
   "metadata": {},
   "outputs": [],
   "source": [
    "import numpy as np"
   ]
  },
  {
   "cell_type": "markdown",
   "metadata": {},
   "source": [
    "### Create an array from an iterable\n",
    "Such as\n",
    "- ```list```\n",
    "- ```tuple```\n",
    "- ```range``` iterator\n",
    "\n",
    "Notice that not all iterables can be used to create a numpy array, such as ```set``` and ```dict```"
   ]
  },
  {
   "cell_type": "code",
   "execution_count": 1,
   "metadata": {},
   "outputs": [
    {
     "name": "stdout",
     "output_type": "stream",
     "text": [
      "[5.6 7.8 9. ]\n",
      "<class 'numpy.ndarray'>\n"
     ]
    }
   ],
   "source": [
    "# Creating a numpy array using a python List\n",
    "import numpy \n",
    "\n",
    "li = [5.6,7.8,9.0]\n",
    "np_array1 = numpy.array(li)\n",
    "print(np_array1)\n",
    "print(type(np_array1))"
   ]
  },
  {
   "cell_type": "code",
   "execution_count": 2,
   "metadata": {},
   "outputs": [
    {
     "name": "stdout",
     "output_type": "stream",
     "text": [
      "[5.6 7.8 9. ]\n",
      "<class 'numpy.ndarray'>\n"
     ]
    }
   ],
   "source": [
    "# Creating a numpy array using a python tuple\n",
    "import numpy \n",
    "\n",
    "li = (5.6,7.8,9.0)\n",
    "np_array2 = numpy.array(li)\n",
    "print(np_array2)\n",
    "print(type(np_array2))"
   ]
  },
  {
   "cell_type": "code",
   "execution_count": 3,
   "metadata": {},
   "outputs": [
    {
     "name": "stdout",
     "output_type": "stream",
     "text": [
      "[[ 1  3  5  7  9 11 13 15 17 19]]\n",
      "<class 'numpy.ndarray'>\n"
     ]
    }
   ],
   "source": [
    "# Creating a numpy array using a python Range \n",
    "import numpy \n",
    "\n",
    "np_array3 = numpy.array([range(1,21,2)])\n",
    "print(np_array3)\n",
    "print(type(np_array3))"
   ]
  },
  {
   "cell_type": "markdown",
   "metadata": {},
   "source": [
    "### Creating 1-D array"
   ]
  },
  {
   "cell_type": "code",
   "execution_count": 13,
   "metadata": {},
   "outputs": [
    {
     "name": "stdout",
     "output_type": "stream",
     "text": [
      "[ 1  3  5  7  9 11 13 15 17 19]\n",
      "<class 'numpy.ndarray'>\n",
      "1\n",
      "(10,)\n"
     ]
    }
   ],
   "source": [
    "# Creating a numpy array using a python Range \n",
    "import numpy \n",
    "\n",
    "li = list(range(1,21,2))\n",
    "np_array3 = numpy.array(li)\n",
    "print(np_array3)\n",
    "print(type(np_array3))\n",
    "print(np_array3.ndim)\n",
    "print(np_array3.shape)"
   ]
  },
  {
   "cell_type": "markdown",
   "metadata": {},
   "source": [
    "### Creating 2-D array"
   ]
  },
  {
   "cell_type": "code",
   "execution_count": 14,
   "metadata": {},
   "outputs": [
    {
     "name": "stdout",
     "output_type": "stream",
     "text": [
      "[[34 56]\n",
      " [56 78]\n",
      " [89 56]]\n",
      "<class 'numpy.ndarray'>\n",
      "2\n",
      "(3, 2)\n"
     ]
    }
   ],
   "source": [
    "np_array4 = numpy.array([[34,56],[56,78],[89,56]])\n",
    "print(np_array4)\n",
    "print(type(np_array4))\n",
    "print(np_array4.ndim)\n",
    "print(np_array4.shape)"
   ]
  },
  {
   "cell_type": "markdown",
   "metadata": {},
   "source": [
    "### Creating 3-D array"
   ]
  },
  {
   "cell_type": "code",
   "execution_count": 38,
   "metadata": {},
   "outputs": [
    {
     "name": "stdout",
     "output_type": "stream",
     "text": [
      "[[[45 67]\n",
      "  [67 78]\n",
      "  [67 89]]\n",
      "\n",
      " [[12 45]\n",
      "  [45 34]\n",
      "  [67 88]]]\n",
      "<class 'numpy.ndarray'>\n",
      "3\n",
      "(2, 3, 2)\n",
      "Total size used by array:  48\n"
     ]
    }
   ],
   "source": [
    "np_array5 = numpy.array([[[45,67],[67,78],[67,89]],[[12,45],[45,34],[67,88]]])\n",
    "print(np_array5)\n",
    "print(type(np_array5))\n",
    "print(np_array5.ndim)\n",
    "print(np_array5.shape)\n",
    "print(\"Total size used by array: \", (np_array5.itemsize)*len(np_array5.flatten()))"
   ]
  },
  {
   "cell_type": "markdown",
   "metadata": {},
   "source": [
    "## Creating 4-D array"
   ]
  },
  {
   "cell_type": "code",
   "execution_count": 16,
   "metadata": {},
   "outputs": [
    {
     "name": "stdout",
     "output_type": "stream",
     "text": [
      "[[[[45 67]\n",
      "   [67 78]\n",
      "   [67 89]]\n",
      "\n",
      "  [[12 45]\n",
      "   [45 34]\n",
      "   [67 88]]]]\n",
      "<class 'numpy.ndarray'>\n",
      "4\n",
      "(1, 2, 3, 2)\n"
     ]
    }
   ],
   "source": [
    "np_array6 = numpy.array([[[[45,67],[67,78],[67,89]],[[12,45],[45,34],[67,88]]]])\n",
    "print(np_array6)\n",
    "print(type(np_array6))\n",
    "print(np_array6.ndim)\n",
    "print(np_array6.shape)"
   ]
  },
  {
   "cell_type": "markdown",
   "metadata": {},
   "source": [
    "## Creating 10-D array"
   ]
  },
  {
   "cell_type": "code",
   "execution_count": null,
   "metadata": {},
   "outputs": [],
   "source": [
    "np_array7 = numpy.array([[[[[[[[[[45,67],[67,78],[67,89]],[[12,45],[45,34],[67,88]]]]]]]]]])\n",
    "print(np_array7)\n",
    "print(type(np_array7))\n",
    "print(np_array7.ndim)"
   ]
  },
  {
   "cell_type": "code",
   "execution_count": 20,
   "metadata": {},
   "outputs": [
    {
     "name": "stdout",
     "output_type": "stream",
     "text": [
      "[[[ 1  2  3  4  5]\n",
      "  [ 6  7  8  9 10]\n",
      "  [11 12 13 14 15]\n",
      "  [16 17 18 19 20]\n",
      "  [21 22 23 24 25]]\n",
      "\n",
      " [[26 27 28 29 30]\n",
      "  [31 32 33 34 35]\n",
      "  [36 37 38 39 40]\n",
      "  [41 42 43 44 45]\n",
      "  [46 47 48 49 50]]]\n",
      "3\n",
      "(2, 5, 5)\n"
     ]
    }
   ],
   "source": [
    "# Creating a 3-D array using reshape method\n",
    "np_array = numpy.arange(1,51)\n",
    "np_array3d = np_array.reshape(2,5,5)\n",
    "print(np_array3d)\n",
    "print(np_array3d.ndim)\n",
    "print(np_array3d.shape)"
   ]
  },
  {
   "cell_type": "code",
   "execution_count": 21,
   "metadata": {},
   "outputs": [
    {
     "name": "stdout",
     "output_type": "stream",
     "text": [
      "[[[ 1  2  3  4  5  6]\n",
      "  [ 7  8  9 10 11 12]\n",
      "  [13 14 15 16 17 18]\n",
      "  [19 20 21 22 23 24]\n",
      "  [25 26 27 28 29 30]]\n",
      "\n",
      " [[31 32 33 34 35 36]\n",
      "  [37 38 39 40 41 42]\n",
      "  [43 44 45 46 47 48]\n",
      "  [49 50 51 52 53 54]\n",
      "  [55 56 57 58 59 60]]]\n",
      "3\n",
      "(2, 5, 6)\n"
     ]
    }
   ],
   "source": [
    "# Creating a 3-D array using reshape method\n",
    "np_array = numpy.arange(1,61)\n",
    "np_array3d = np_array.reshape(2,5,-1)\n",
    "print(np_array3d)\n",
    "print(np_array3d.ndim)\n",
    "print(np_array3d.shape)\n"
   ]
  },
  {
   "cell_type": "code",
   "execution_count": 22,
   "metadata": {},
   "outputs": [
    {
     "name": "stdout",
     "output_type": "stream",
     "text": [
      "[[[[[[[[[[ 1  2  3  4]\n",
      "         [ 5  6  7  8]\n",
      "         [ 9 10 11 12]]\n",
      "\n",
      "        [[13 14 15 16]\n",
      "         [17 18 19 20]\n",
      "         [21 22 23 24]]]\n",
      "\n",
      "\n",
      "       [[[25 26 27 28]\n",
      "         [29 30 31 32]\n",
      "         [33 34 35 36]]\n",
      "\n",
      "        [[37 38 39 40]\n",
      "         [41 42 43 44]\n",
      "         [45 46 47 48]]]]]]]]]]\n",
      "10\n",
      "(1, 1, 1, 1, 1, 1, 2, 2, 3, 4)\n"
     ]
    }
   ],
   "source": [
    "# Creating a 10-D array using reshape method\n",
    "\n",
    "np_array = numpy.arange(1,49)\n",
    "np_array10d = np_array.reshape(1,1,1,1,1,1,2,2,3,4)\n",
    "print(np_array10d)\n",
    "print(np_array10d.ndim)\n",
    "print(np_array10d.shape)"
   ]
  },
  {
   "cell_type": "code",
   "execution_count": 24,
   "metadata": {},
   "outputs": [
    {
     "data": {
      "text/plain": [
       "array([[[[ 1,  2,  3],\n",
       "         [ 4,  5,  6],\n",
       "         [ 7,  8,  9]],\n",
       "\n",
       "        [[10, 11, 12],\n",
       "         [13, 14, 15],\n",
       "         [16, 17, 18]],\n",
       "\n",
       "        [[19, 20, 21],\n",
       "         [22, 23, 24],\n",
       "         [25, 26, 27]]],\n",
       "\n",
       "\n",
       "       [[[28, 29, 30],\n",
       "         [31, 32, 33],\n",
       "         [34, 35, 36]],\n",
       "\n",
       "        [[37, 38, 39],\n",
       "         [40, 41, 42],\n",
       "         [43, 44, 45]],\n",
       "\n",
       "        [[46, 47, 48],\n",
       "         [49, 50, 51],\n",
       "         [52, 53, 54]]],\n",
       "\n",
       "\n",
       "       [[[55, 56, 57],\n",
       "         [58, 59, 60],\n",
       "         [61, 62, 63]],\n",
       "\n",
       "        [[64, 65, 66],\n",
       "         [67, 68, 69],\n",
       "         [70, 71, 72]],\n",
       "\n",
       "        [[73, 74, 75],\n",
       "         [76, 77, 78],\n",
       "         [79, 80, 81]]]])"
      ]
     },
     "execution_count": 24,
     "metadata": {},
     "output_type": "execute_result"
    }
   ],
   "source": [
    "# Creating a 4-D array using reshape method\n",
    "\n",
    "li = list(range(1,82))\n",
    "ar = numpy.array(li)\n",
    "arr4b = ar.reshape(3,3,3,-1) # last dimension(column) will be automatically calculated\n",
    "arr4b"
   ]
  },
  {
   "cell_type": "markdown",
   "metadata": {},
   "source": [
    "### Create an array with specified data type"
   ]
  },
  {
   "cell_type": "code",
   "execution_count": 37,
   "metadata": {},
   "outputs": [
    {
     "name": "stdout",
     "output_type": "stream",
     "text": [
      "[[[45 67]\n",
      "  [67 78]\n",
      "  [67 89]]\n",
      "\n",
      " [[12 45]\n",
      "  [45 34]\n",
      "  [67 88]]]\n",
      "<class 'numpy.ndarray'>\n",
      "3\n",
      "(2, 3, 2)\n",
      "int8\n",
      "Total size used by array:  12\n"
     ]
    }
   ],
   "source": [
    "np_array5 = numpy.array([[[45,67],[67,78],[67,89]],[[12,45],[45,34],[67,88]]], dtype='int8')\n",
    "print(np_array5)\n",
    "print(type(np_array5))\n",
    "print(np_array5.ndim)\n",
    "print(np_array5.shape)\n",
    "print(np_array5.dtype)\n",
    "print(\"Total size used by array: \", (np_array5.itemsize)*len(np_array5.flatten()))"
   ]
  },
  {
   "cell_type": "code",
   "execution_count": 39,
   "metadata": {},
   "outputs": [
    {
     "name": "stdout",
     "output_type": "stream",
     "text": [
      "[[[45. 67.]\n",
      "  [67. 78.]\n",
      "  [67. 89.]]\n",
      "\n",
      " [[12. 45.]\n",
      "  [45. 34.]\n",
      "  [67. 88.]]]\n",
      "<class 'numpy.ndarray'>\n",
      "3\n",
      "(2, 3, 2)\n",
      "float16\n",
      "Total size used by array:  24\n"
     ]
    }
   ],
   "source": [
    "np_array5 = numpy.array([[[45,67],[67,78],[67,89]],[[12,45],[45,34],[67,88]]], dtype='float16')\n",
    "print(np_array5)\n",
    "print(type(np_array5))\n",
    "print(np_array5.ndim)\n",
    "print(np_array5.shape)\n",
    "print(np_array5.dtype)\n",
    "print(\"Total size used by array: \", (np_array5.itemsize)*len(np_array5.flatten()))"
   ]
  },
  {
   "cell_type": "code",
   "execution_count": 41,
   "metadata": {},
   "outputs": [
    {
     "name": "stdout",
     "output_type": "stream",
     "text": [
      "[[[45.+0.j 67.+0.j]\n",
      "  [67.+0.j 78.+0.j]\n",
      "  [67.+0.j 89.+0.j]]\n",
      "\n",
      " [[12.+0.j 45.+0.j]\n",
      "  [45.+0.j 34.+0.j]\n",
      "  [67.+0.j 88.+0.j]]]\n",
      "<class 'numpy.ndarray'>\n",
      "3\n",
      "(2, 3, 2)\n",
      "complex64\n",
      "Total size used by array:  96\n"
     ]
    }
   ],
   "source": [
    "np_array5 = numpy.array([[[45,67],[67,78],[67,89]],[[12,45],[45,34],[67,88]]], dtype='complex64')\n",
    "print(np_array5)\n",
    "print(type(np_array5))\n",
    "print(np_array5.ndim)\n",
    "print(np_array5.shape)\n",
    "print(np_array5.dtype)\n",
    "print(\"Total size used by array: \", (np_array5.itemsize)*len(np_array5.flatten()))"
   ]
  },
  {
   "cell_type": "code",
   "execution_count": null,
   "metadata": {},
   "outputs": [],
   "source": [
    "np_array5 = numpy.array([[[45,67],[67,78],[67,89]],[[12,45],[45,34],[67,88]]], dtype='int8')\n",
    "print(np_array5)\n",
    "print(type(np_array5))\n",
    "print(np_array5.ndim)\n",
    "print(np_array5.shape)\n",
    "print(np_array5.dtype)\n",
    "print(\"Total size used by array: \", (np_array5.itemsize)*len(np_array5.flatten()))"
   ]
  },
  {
   "cell_type": "code",
   "execution_count": 47,
   "metadata": {},
   "outputs": [
    {
     "name": "stdout",
     "output_type": "stream",
     "text": [
      "[[['4' '6']\n",
      "  ['6' '7']\n",
      "  ['6' '8']]\n",
      "\n",
      " [['1' '4']\n",
      "  ['4' '3']\n",
      "  ['6' '8']]]\n",
      "<class 'numpy.ndarray'>\n",
      "3\n",
      "(2, 3, 2)\n",
      "<U1\n",
      "Total size used by array:  48\n"
     ]
    }
   ],
   "source": [
    "np_array5 = numpy.array([[[45,67],[67,78],[67,89]],[[12,45],[45,34],[67,88]]], dtype='U1')\n",
    "print(np_array5)\n",
    "print(type(np_array5))\n",
    "print(np_array5.ndim)\n",
    "print(np_array5.shape)\n",
    "print(np_array5.dtype)\n",
    "print(\"Total size used by array: \", (np_array5.itemsize)*len(np_array5.flatten()))"
   ]
  },
  {
   "cell_type": "markdown",
   "metadata": {},
   "source": [
    "### Create an aray within specified range\n",
    "```np.arange()``` method can be used to replace ```np.array(range())``` method"
   ]
  },
  {
   "cell_type": "code",
   "execution_count": 3,
   "metadata": {},
   "outputs": [
    {
     "name": "stdout",
     "output_type": "stream",
     "text": [
      "[ 0  1  2  3  4  5  6  7  8  9 10 11 12 13 14 15 16 17 18 19 20]\n",
      "<class 'numpy.ndarray'>\n"
     ]
    }
   ],
   "source": [
    "# numpy.arange(start, stop, step)\n",
    "\n",
    "import numpy\n",
    "\n",
    "np_array1 = numpy.arange(21)\n",
    "print(np_array1)\n",
    "print(type(np_array1))"
   ]
  },
  {
   "cell_type": "markdown",
   "metadata": {},
   "source": [
    "### Create an array of evenly spaced numbers within specified range\n",
    "```np.linspace(start, stop, num_of_elements, endpoint=True, retstep=False)``` has 5 parameters:\n",
    "- ```start```: start number (inclusive)\n",
    "- ```stop```: end number (inclusive unless ```endpoint``` set to ```False```)\n",
    "- ```num_of_elements```: number of elements contained in the array\n",
    "- ```endpoint```: boolean value representing whether the ```stop``` number is inclusive or not\n",
    "- ```retstep```: boolean value representing whether to return the step size"
   ]
  },
  {
   "cell_type": "code",
   "execution_count": 4,
   "metadata": {},
   "outputs": [
    {
     "name": "stdout",
     "output_type": "stream",
     "text": [
      "[ 1.          7.33333333 13.66666667 20.        ]\n"
     ]
    }
   ],
   "source": [
    "np_array2 = numpy.linspace(1,20,4)\n",
    "print(np_array2)"
   ]
  },
  {
   "cell_type": "markdown",
   "metadata": {},
   "source": [
    "### Create an array of random values of given shape\n",
    "```numpy.random.rand()``` method returns values in the range [0,1)"
   ]
  },
  {
   "cell_type": "code",
   "execution_count": 16,
   "metadata": {},
   "outputs": [
    {
     "name": "stdout",
     "output_type": "stream",
     "text": [
      "43\n",
      "22\n",
      "15\n",
      "20\n",
      "17\n",
      "20\n",
      "21\n",
      "37\n",
      "30\n",
      "16\n"
     ]
    }
   ],
   "source": [
    "import random\n",
    "\n",
    "random.seed(1234)\n",
    "for i in range(10):\n",
    "    print(random.randint(15,51))"
   ]
  },
  {
   "cell_type": "code",
   "execution_count": 6,
   "metadata": {},
   "outputs": [
    {
     "name": "stdout",
     "output_type": "stream",
     "text": [
      "[[0.26415367 0.70395803 0.99821484]\n",
      " [0.18899255 0.24107548 0.94185737]\n",
      " [0.21832483 0.29145085 0.58265098]\n",
      " [0.12393459 0.77619144 0.40664701]]\n"
     ]
    }
   ],
   "source": [
    "np_array3 = numpy.random.rand(4,3)\n",
    "print(np_array3)"
   ]
  },
  {
   "cell_type": "code",
   "execution_count": 20,
   "metadata": {},
   "outputs": [
    {
     "name": "stdout",
     "output_type": "stream",
     "text": [
      "[[89 76 59]\n",
      " [41  9 69]\n",
      " [97 97 62]]\n"
     ]
    }
   ],
   "source": [
    "np_array4 = numpy.random.randint(1,100, size = (3,3))\n",
    "print(np_array4)"
   ]
  },
  {
   "cell_type": "markdown",
   "metadata": {},
   "source": [
    "### Create an array of zeros of given shape \n",
    "- ```numpy.zeros()```: create array of all zeros in given shape\n",
    "- ```numpy.zeros_like()```: create array of all zeros with the same shape and data type as the given input array"
   ]
  },
  {
   "cell_type": "code",
   "execution_count": 22,
   "metadata": {},
   "outputs": [
    {
     "name": "stdout",
     "output_type": "stream",
     "text": [
      "[[0. 0. 0.]\n",
      " [0. 0. 0.]]\n"
     ]
    }
   ],
   "source": [
    "np_array5 = numpy.zeros((2,3))\n",
    "print(np_array5)"
   ]
  },
  {
   "cell_type": "code",
   "execution_count": 25,
   "metadata": {},
   "outputs": [
    {
     "name": "stdout",
     "output_type": "stream",
     "text": [
      "[[0 0 0]\n",
      " [0 0 0]]\n"
     ]
    }
   ],
   "source": [
    "# Array of integer zero\n",
    "\n",
    "np_array6 = numpy.zeros((2,3), dtype=int)\n",
    "print(np_array6)"
   ]
  },
  {
   "cell_type": "code",
   "execution_count": 26,
   "metadata": {},
   "outputs": [
    {
     "name": "stdout",
     "output_type": "stream",
     "text": [
      "[[0.+0.j 0.+0.j 0.+0.j]\n",
      " [0.+0.j 0.+0.j 0.+0.j]]\n"
     ]
    }
   ],
   "source": [
    "# Array of complex zero\n",
    "\n",
    "np_array7 = numpy.zeros((2,3), dtype = complex)\n",
    "print(np_array7)"
   ]
  },
  {
   "cell_type": "markdown",
   "metadata": {},
   "source": [
    "### Create an array of ones of given shape \n",
    "- ```numpy.ones()```: create array of all ones in given shape\n",
    "- ```numpy.ones_like()```: create array of all ones with the same shape and data type as the given input array"
   ]
  },
  {
   "cell_type": "code",
   "execution_count": 32,
   "metadata": {},
   "outputs": [
    {
     "name": "stdout",
     "output_type": "stream",
     "text": [
      "[[1. 1. 1. 1.]\n",
      " [1. 1. 1. 1.]\n",
      " [1. 1. 1. 1.]]\n"
     ]
    }
   ],
   "source": [
    "np_array8 = numpy.ones((3,4))\n",
    "print(np_array8)"
   ]
  },
  {
   "cell_type": "code",
   "execution_count": 33,
   "metadata": {},
   "outputs": [
    {
     "name": "stdout",
     "output_type": "stream",
     "text": [
      "[['1' '1' '1' '1']\n",
      " ['1' '1' '1' '1']\n",
      " ['1' '1' '1' '1']]\n"
     ]
    }
   ],
   "source": [
    "np_array8 = numpy.ones((3,4), dtype=str)\n",
    "print(np_array8)"
   ]
  },
  {
   "cell_type": "markdown",
   "metadata": {},
   "source": [
    "### Create an empty array of given shape \n",
    "- ```np.empty()```: create array of empty values in given shape\n",
    "- ```np.empty_like()```: create array of empty values with the same shape and data type as the given input array\n",
    "\n",
    "Notice that the initial values are not necessarily set to zeroes.\n",
    "\n",
    "They are just some garbage values in random memory addresses."
   ]
  },
  {
   "cell_type": "code",
   "execution_count": 37,
   "metadata": {},
   "outputs": [
    {
     "name": "stdout",
     "output_type": "stream",
     "text": [
      "[[[6.23042070e-307 4.67296746e-307 1.69121096e-306]\n",
      "  [1.29061074e-306 1.69119873e-306 1.78019082e-306]\n",
      "  [3.11518149e-307 4.22779312e-307 2.33644299e-307]]\n",
      "\n",
      " [[7.56587584e-307 1.37961302e-306 1.05699242e-307]\n",
      "  [8.01097889e-307 1.78020169e-306 7.56601165e-307]\n",
      "  [1.02359984e-306 2.04719290e-306 1.00132653e-307]]\n",
      "\n",
      " [[8.01097889e-307 1.29062229e-306 1.69111725e-306]\n",
      "  [1.69118923e-306 1.11260144e-306 6.89812281e-307]\n",
      "  [2.22522596e-306 1.11253693e-306 2.10081501e-312]]]\n"
     ]
    }
   ],
   "source": [
    "np_array9 = numpy.empty((3,3,3))\n",
    "print(np_array9)"
   ]
  },
  {
   "cell_type": "code",
   "execution_count": 41,
   "metadata": {},
   "outputs": [
    {
     "name": "stdout",
     "output_type": "stream",
     "text": [
      "[[[         0 1072693248]\n",
      "  [1431655765 1075664213]]\n",
      "\n",
      " [[1431655765 1076581717]\n",
      "  [         0 1077149696]]]\n",
      "int32\n"
     ]
    }
   ],
   "source": [
    "np_array10 = numpy.empty_like(([1,2,3], [4,5,6]), shape=(2,2,2))\n",
    "print(np_array10)\n",
    "# print(np_array10.dtype)"
   ]
  },
  {
   "cell_type": "markdown",
   "metadata": {},
   "source": [
    "### Create an array of constant values of given shape  \n",
    "- ```np.full()```: create array of constant values in given shape\n",
    "- ```np.full_like()```: create array of constant values with the same shape and data type as the given input array"
   ]
  },
  {
   "cell_type": "code",
   "execution_count": 44,
   "metadata": {},
   "outputs": [
    {
     "name": "stdout",
     "output_type": "stream",
     "text": [
      "[[[4 4 4 4]\n",
      "  [4 4 4 4]\n",
      "  [4 4 4 4]]\n",
      "\n",
      " [[4 4 4 4]\n",
      "  [4 4 4 4]\n",
      "  [4 4 4 4]]]\n"
     ]
    }
   ],
   "source": [
    "np_array11 = numpy.full((2,3,4),4)\n",
    "print(np_array11)"
   ]
  },
  {
   "cell_type": "code",
   "execution_count": 53,
   "metadata": {},
   "outputs": [
    {
     "name": "stdout",
     "output_type": "stream",
     "text": [
      "[[[1 2 3 5]\n",
      "  [6 7 4 2]\n",
      "  [6 7 5 4]]\n",
      "\n",
      " [[1 2 3 5]\n",
      "  [6 7 4 2]\n",
      "  [6 7 5 4]]]\n"
     ]
    }
   ],
   "source": [
    "np_array11 = numpy.full((2,3,4),[[1,2,3,5],[6,7,4,2],[6,7,5,4]])\n",
    "print(np_array11)"
   ]
  },
  {
   "cell_type": "markdown",
   "metadata": {},
   "source": [
    "### Create an array in a repetitive manner\n",
    "- ```numpy.repeat(iterable, reps, axis=None)```: repeat each element by n times\n",
    "    - ```iterable```: input array\n",
    "    - ```reps```: number of repetitions\n",
    "    - ```axis```: which axis to repeat along, default is ```None``` which will flatten the input array and then repeat\n",
    "- ```numpy.tile()```: repeat the whole array by n times\n",
    "    - ```iterable```: input array\n",
    "    - ```reps```: number of repetitions, it can be a tuple to represent repetitions along x-axis and y-axis"
   ]
  },
  {
   "cell_type": "code",
   "execution_count": 54,
   "metadata": {},
   "outputs": [
    {
     "name": "stdout",
     "output_type": "stream",
     "text": [
      "[3 3 3 4 4 4 5 5 5]\n"
     ]
    }
   ],
   "source": [
    "# No axis specified, then flatten the input array first and repeat\n",
    "\n",
    "np_array12 = numpy.repeat([3,4,5],3)\n",
    "print(np_array12)"
   ]
  },
  {
   "cell_type": "code",
   "execution_count": 59,
   "metadata": {},
   "outputs": [
    {
     "name": "stdout",
     "output_type": "stream",
     "text": [
      "[3 3 3 4 4 4 5 5 5]\n",
      "(9,)\n"
     ]
    }
   ],
   "source": [
    "np_array12 = numpy.repeat([3,4,5],3, axis=0)\n",
    "print(np_array12)\n",
    "print(np_array12.shape)"
   ]
  },
  {
   "cell_type": "code",
   "execution_count": 58,
   "metadata": {},
   "outputs": [
    {
     "ename": "AxisError",
     "evalue": "axis 1 is out of bounds for array of dimension 1",
     "output_type": "error",
     "traceback": [
      "\u001b[1;31m---------------------------------------------------------------------------\u001b[0m",
      "\u001b[1;31mAxisError\u001b[0m                                 Traceback (most recent call last)",
      "Input \u001b[1;32mIn [58]\u001b[0m, in \u001b[0;36m<cell line: 1>\u001b[1;34m()\u001b[0m\n\u001b[1;32m----> 1\u001b[0m np_array12 \u001b[38;5;241m=\u001b[39m \u001b[43mnumpy\u001b[49m\u001b[38;5;241;43m.\u001b[39;49m\u001b[43mrepeat\u001b[49m\u001b[43m(\u001b[49m\u001b[43m[\u001b[49m\u001b[38;5;241;43m3\u001b[39;49m\u001b[43m,\u001b[49m\u001b[38;5;241;43m4\u001b[39;49m\u001b[43m,\u001b[49m\u001b[38;5;241;43m5\u001b[39;49m\u001b[43m]\u001b[49m\u001b[43m,\u001b[49m\u001b[38;5;241;43m3\u001b[39;49m\u001b[43m,\u001b[49m\u001b[43m \u001b[49m\u001b[43maxis\u001b[49m\u001b[38;5;241;43m=\u001b[39;49m\u001b[38;5;241;43m1\u001b[39;49m\u001b[43m)\u001b[49m\n\u001b[0;32m      2\u001b[0m \u001b[38;5;28mprint\u001b[39m(np_array12)\n",
      "File \u001b[1;32m<__array_function__ internals>:5\u001b[0m, in \u001b[0;36mrepeat\u001b[1;34m(*args, **kwargs)\u001b[0m\n",
      "File \u001b[1;32m~\\anaconda3\\lib\\site-packages\\numpy\\core\\fromnumeric.py:479\u001b[0m, in \u001b[0;36mrepeat\u001b[1;34m(a, repeats, axis)\u001b[0m\n\u001b[0;32m    436\u001b[0m \u001b[38;5;129m@array_function_dispatch\u001b[39m(_repeat_dispatcher)\n\u001b[0;32m    437\u001b[0m \u001b[38;5;28;01mdef\u001b[39;00m \u001b[38;5;21mrepeat\u001b[39m(a, repeats, axis\u001b[38;5;241m=\u001b[39m\u001b[38;5;28;01mNone\u001b[39;00m):\n\u001b[0;32m    438\u001b[0m     \u001b[38;5;124;03m\"\"\"\u001b[39;00m\n\u001b[0;32m    439\u001b[0m \u001b[38;5;124;03m    Repeat elements of an array.\u001b[39;00m\n\u001b[0;32m    440\u001b[0m \n\u001b[1;32m   (...)\u001b[0m\n\u001b[0;32m    477\u001b[0m \n\u001b[0;32m    478\u001b[0m \u001b[38;5;124;03m    \"\"\"\u001b[39;00m\n\u001b[1;32m--> 479\u001b[0m     \u001b[38;5;28;01mreturn\u001b[39;00m \u001b[43m_wrapfunc\u001b[49m\u001b[43m(\u001b[49m\u001b[43ma\u001b[49m\u001b[43m,\u001b[49m\u001b[43m \u001b[49m\u001b[38;5;124;43m'\u001b[39;49m\u001b[38;5;124;43mrepeat\u001b[39;49m\u001b[38;5;124;43m'\u001b[39;49m\u001b[43m,\u001b[49m\u001b[43m \u001b[49m\u001b[43mrepeats\u001b[49m\u001b[43m,\u001b[49m\u001b[43m \u001b[49m\u001b[43maxis\u001b[49m\u001b[38;5;241;43m=\u001b[39;49m\u001b[43maxis\u001b[49m\u001b[43m)\u001b[49m\n",
      "File \u001b[1;32m~\\anaconda3\\lib\\site-packages\\numpy\\core\\fromnumeric.py:54\u001b[0m, in \u001b[0;36m_wrapfunc\u001b[1;34m(obj, method, *args, **kwds)\u001b[0m\n\u001b[0;32m     52\u001b[0m bound \u001b[38;5;241m=\u001b[39m \u001b[38;5;28mgetattr\u001b[39m(obj, method, \u001b[38;5;28;01mNone\u001b[39;00m)\n\u001b[0;32m     53\u001b[0m \u001b[38;5;28;01mif\u001b[39;00m bound \u001b[38;5;129;01mis\u001b[39;00m \u001b[38;5;28;01mNone\u001b[39;00m:\n\u001b[1;32m---> 54\u001b[0m     \u001b[38;5;28;01mreturn\u001b[39;00m _wrapit(obj, method, \u001b[38;5;241m*\u001b[39margs, \u001b[38;5;241m*\u001b[39m\u001b[38;5;241m*\u001b[39mkwds)\n\u001b[0;32m     56\u001b[0m \u001b[38;5;28;01mtry\u001b[39;00m:\n\u001b[0;32m     57\u001b[0m     \u001b[38;5;28;01mreturn\u001b[39;00m bound(\u001b[38;5;241m*\u001b[39margs, \u001b[38;5;241m*\u001b[39m\u001b[38;5;241m*\u001b[39mkwds)\n",
      "File \u001b[1;32m~\\anaconda3\\lib\\site-packages\\numpy\\core\\fromnumeric.py:43\u001b[0m, in \u001b[0;36m_wrapit\u001b[1;34m(obj, method, *args, **kwds)\u001b[0m\n\u001b[0;32m     41\u001b[0m \u001b[38;5;28;01mexcept\u001b[39;00m \u001b[38;5;167;01mAttributeError\u001b[39;00m:\n\u001b[0;32m     42\u001b[0m     wrap \u001b[38;5;241m=\u001b[39m \u001b[38;5;28;01mNone\u001b[39;00m\n\u001b[1;32m---> 43\u001b[0m result \u001b[38;5;241m=\u001b[39m \u001b[38;5;28mgetattr\u001b[39m(asarray(obj), method)(\u001b[38;5;241m*\u001b[39margs, \u001b[38;5;241m*\u001b[39m\u001b[38;5;241m*\u001b[39mkwds)\n\u001b[0;32m     44\u001b[0m \u001b[38;5;28;01mif\u001b[39;00m wrap:\n\u001b[0;32m     45\u001b[0m     \u001b[38;5;28;01mif\u001b[39;00m \u001b[38;5;129;01mnot\u001b[39;00m \u001b[38;5;28misinstance\u001b[39m(result, mu\u001b[38;5;241m.\u001b[39mndarray):\n",
      "\u001b[1;31mAxisError\u001b[0m: axis 1 is out of bounds for array of dimension 1"
     ]
    }
   ],
   "source": [
    "np_array12 = numpy.repeat([3,4,5],3, axis=1)\n",
    "print(np_array12)"
   ]
  },
  {
   "cell_type": "code",
   "execution_count": 60,
   "metadata": {},
   "outputs": [
    {
     "name": "stdout",
     "output_type": "stream",
     "text": [
      "[[3 4 5]\n",
      " [3 4 5]\n",
      " [3 4 5]\n",
      " [1 2 3]\n",
      " [1 2 3]\n",
      " [1 2 3]]\n"
     ]
    }
   ],
   "source": [
    "np_array14 = numpy.repeat([[3,4,5],[1,2,3]],3, axis=0)\n",
    "print(np_array14)"
   ]
  },
  {
   "cell_type": "code",
   "execution_count": null,
   "metadata": {},
   "outputs": [],
   "source": [
    "np_array14 = numpy.repeat([[3,4,5],[1,2,3]],3, axis=0)\n",
    "print(np_array14)"
   ]
  },
  {
   "cell_type": "code",
   "execution_count": 62,
   "metadata": {},
   "outputs": [
    {
     "name": "stdout",
     "output_type": "stream",
     "text": [
      "[[3 3 3 4 4 4 5 5 5]\n",
      " [1 1 1 2 2 2 3 3 3]]\n"
     ]
    }
   ],
   "source": [
    "np_array15 = numpy.repeat([[3,4,5],[1,2,3]],3, axis=1)\n",
    "print(np_array15)"
   ]
  },
  {
   "cell_type": "code",
   "execution_count": null,
   "metadata": {},
   "outputs": [],
   "source": []
  },
  {
   "cell_type": "code",
   "execution_count": 56,
   "metadata": {},
   "outputs": [
    {
     "name": "stdout",
     "output_type": "stream",
     "text": [
      "[[3 4 5 3 4 5 3 4 5]\n",
      " [1 2 3 1 2 3 1 2 3]]\n"
     ]
    }
   ],
   "source": [
    "np_array13 = numpy.tile([[3,4,5],[1,2,3]],3)\n",
    "print(np_array13)"
   ]
  },
  {
   "cell_type": "code",
   "execution_count": 65,
   "metadata": {},
   "outputs": [
    {
     "ename": "TypeError",
     "evalue": "_tile_dispatcher() got an unexpected keyword argument 'axis'",
     "output_type": "error",
     "traceback": [
      "\u001b[1;31m---------------------------------------------------------------------------\u001b[0m",
      "\u001b[1;31mTypeError\u001b[0m                                 Traceback (most recent call last)",
      "Input \u001b[1;32mIn [65]\u001b[0m, in \u001b[0;36m<cell line: 1>\u001b[1;34m()\u001b[0m\n\u001b[1;32m----> 1\u001b[0m np_array13 \u001b[38;5;241m=\u001b[39m \u001b[43mnumpy\u001b[49m\u001b[38;5;241;43m.\u001b[39;49m\u001b[43mtile\u001b[49m\u001b[43m(\u001b[49m\u001b[43m[\u001b[49m\u001b[43m[\u001b[49m\u001b[38;5;241;43m3\u001b[39;49m\u001b[43m,\u001b[49m\u001b[38;5;241;43m4\u001b[39;49m\u001b[43m,\u001b[49m\u001b[38;5;241;43m5\u001b[39;49m\u001b[43m]\u001b[49m\u001b[43m,\u001b[49m\u001b[43m[\u001b[49m\u001b[38;5;241;43m1\u001b[39;49m\u001b[43m,\u001b[49m\u001b[38;5;241;43m2\u001b[39;49m\u001b[43m,\u001b[49m\u001b[38;5;241;43m3\u001b[39;49m\u001b[43m]\u001b[49m\u001b[43m]\u001b[49m\u001b[43m,\u001b[49m\u001b[38;5;241;43m3\u001b[39;49m\u001b[43m,\u001b[49m\u001b[43m \u001b[49m\u001b[43maxis\u001b[49m\u001b[38;5;241;43m=\u001b[39;49m\u001b[38;5;241;43m0\u001b[39;49m\u001b[43m)\u001b[49m\n\u001b[0;32m      2\u001b[0m \u001b[38;5;28mprint\u001b[39m(np_array13)\n",
      "File \u001b[1;32m<__array_function__ internals>:4\u001b[0m, in \u001b[0;36mtile\u001b[1;34m(*args, **kwargs)\u001b[0m\n",
      "\u001b[1;31mTypeError\u001b[0m: _tile_dispatcher() got an unexpected keyword argument 'axis'"
     ]
    }
   ],
   "source": [
    "np_array13 = numpy.tile([[3,4,5],[1,2,3]],3, axis=0)\n",
    "print(np_array13)"
   ]
  },
  {
   "cell_type": "markdown",
   "metadata": {},
   "source": [
    "### Create an identity matrix of given size\n",
    "- ```numpy.eye(size, k=0)```: create an identity matrix of given size\n",
    "    - ```size```: the size of the identity matrix\n",
    "    - ```k```: the diagonal offset\n",
    "- ```numpy.identity()```: same as ```np.eye()``` but does not carry parameters"
   ]
  },
  {
   "cell_type": "code",
   "execution_count": 79,
   "metadata": {},
   "outputs": [
    {
     "name": "stdout",
     "output_type": "stream",
     "text": [
      "[[1. 0. 0.]\n",
      " [0. 1. 0.]\n",
      " [0. 0. 1.]]\n"
     ]
    }
   ],
   "source": [
    "np_array16 = numpy.eye(3,3)\n",
    "print(np_array16)"
   ]
  },
  {
   "cell_type": "code",
   "execution_count": 80,
   "metadata": {},
   "outputs": [
    {
     "name": "stdout",
     "output_type": "stream",
     "text": [
      "[[1. 0. 0.]\n",
      " [0. 1. 0.]\n",
      " [0. 0. 1.]]\n"
     ]
    }
   ],
   "source": [
    "np_array17 = numpy.identity(3)\n",
    "print(np_array17)"
   ]
  },
  {
   "cell_type": "code",
   "execution_count": 87,
   "metadata": {},
   "outputs": [
    {
     "name": "stdout",
     "output_type": "stream",
     "text": [
      "[[0. 0. 0. 0. 0.]\n",
      " [1. 0. 0. 0. 0.]\n",
      " [0. 1. 0. 0. 0.]\n",
      " [0. 0. 1. 0. 0.]\n",
      " [0. 0. 0. 1. 0.]]\n"
     ]
    }
   ],
   "source": [
    "# An example of diagonal offset\n",
    "identity_matrix = numpy.eye(5, k=-1)\n",
    "print(identity_matrix)"
   ]
  },
  {
   "cell_type": "code",
   "execution_count": 93,
   "metadata": {},
   "outputs": [
    {
     "ename": "TypeError",
     "evalue": "identity() got an unexpected keyword argument 'k'",
     "output_type": "error",
     "traceback": [
      "\u001b[1;31m---------------------------------------------------------------------------\u001b[0m",
      "\u001b[1;31mTypeError\u001b[0m                                 Traceback (most recent call last)",
      "Input \u001b[1;32mIn [93]\u001b[0m, in \u001b[0;36m<cell line: 1>\u001b[1;34m()\u001b[0m\n\u001b[1;32m----> 1\u001b[0m identity_matrix \u001b[38;5;241m=\u001b[39m \u001b[43mnumpy\u001b[49m\u001b[38;5;241;43m.\u001b[39;49m\u001b[43midentity\u001b[49m\u001b[43m(\u001b[49m\u001b[38;5;241;43m5\u001b[39;49m\u001b[43m,\u001b[49m\u001b[43m \u001b[49m\u001b[43mdtype\u001b[49m\u001b[38;5;241;43m=\u001b[39;49m\u001b[38;5;28;43mint\u001b[39;49m\u001b[43m,\u001b[49m\u001b[43m \u001b[49m\u001b[43mk\u001b[49m\u001b[38;5;241;43m=\u001b[39;49m\u001b[38;5;241;43m1\u001b[39;49m\u001b[43m)\u001b[49m\n\u001b[0;32m      2\u001b[0m \u001b[38;5;28mprint\u001b[39m(identity_matrix)\n",
      "\u001b[1;31mTypeError\u001b[0m: identity() got an unexpected keyword argument 'k'"
     ]
    }
   ],
   "source": [
    "identity_matrix = numpy.identity(5, dtype=int)\n",
    "print(identity_matrix)"
   ]
  },
  {
   "cell_type": "markdown",
   "metadata": {},
   "source": [
    "### Create an array with given values on the diagonal"
   ]
  },
  {
   "cell_type": "code",
   "execution_count": 96,
   "metadata": {},
   "outputs": [
    {
     "name": "stdout",
     "output_type": "stream",
     "text": [
      "[[33 24 10 40 31]\n",
      " [20 10 13 36 21]\n",
      " [31 45 30 30 19]\n",
      " [34 40 36 19 12]\n",
      " [14 32  2 25 31]]\n",
      "Values on the diagonal: [33 10 30 19 31]\n"
     ]
    }
   ],
   "source": [
    "arr = numpy.random.randint(1,51,(5,5))\n",
    "print(arr)\n",
    "\n",
    "# Extract values on the diagonal\n",
    "print('Values on the diagonal: ' + str(numpy.diag(arr)))"
   ]
  },
  {
   "cell_type": "code",
   "execution_count": 97,
   "metadata": {},
   "outputs": [
    {
     "name": "stdout",
     "output_type": "stream",
     "text": [
      "[[5.31874531e-01 6.76804030e-01 1.37045666e-01]\n",
      " [3.19146242e-01 7.00107883e-01 9.92152277e-01]\n",
      " [2.59797646e-01 4.70029548e-01 2.09439951e-02]\n",
      " [8.41317197e-02 5.28932542e-01 8.87209194e-01]\n",
      " [7.15616170e-01 3.34432746e-01 4.56285875e-01]\n",
      " [6.67885959e-04 9.24585823e-01 1.97979247e-01]\n",
      " [7.31197457e-01 3.59554252e-01 7.00653252e-01]\n",
      " [5.63648524e-01 9.76472056e-01 6.65889551e-02]\n",
      " [4.10882617e-01 4.08662613e-01 5.36724257e-01]\n",
      " [3.37930989e-01 3.60985701e-01 4.63196544e-01]]\n",
      "Values on the diagonal: [0.53187453 0.70010788 0.020944  ]\n"
     ]
    }
   ],
   "source": [
    "# Not necessarily to be a square matrix\n",
    "arr = numpy.random.rand(10,3)\n",
    "print(arr)\n",
    "# Extract values on the diagonal\n",
    "print('Values on the diagonal: ' + str(numpy.diag(arr)))"
   ]
  },
  {
   "cell_type": "code",
   "execution_count": 90,
   "metadata": {},
   "outputs": [],
   "source": [
    "# Create a matrix given values on the diagonal\n",
    "# All non-diagonal values set to zeros\n"
   ]
  },
  {
   "cell_type": "code",
   "execution_count": null,
   "metadata": {},
   "outputs": [],
   "source": []
  }
 ],
 "metadata": {
  "kernelspec": {
   "display_name": "Python 3 (ipykernel)",
   "language": "python",
   "name": "python3"
  },
  "language_info": {
   "codemirror_mode": {
    "name": "ipython",
    "version": 3
   },
   "file_extension": ".py",
   "mimetype": "text/x-python",
   "name": "python",
   "nbconvert_exporter": "python",
   "pygments_lexer": "ipython3",
   "version": "3.9.12"
  }
 },
 "nbformat": 4,
 "nbformat_minor": 2
}
