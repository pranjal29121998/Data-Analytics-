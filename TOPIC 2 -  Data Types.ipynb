{
 "cells": [
  {
   "cell_type": "code",
   "execution_count": 2,
   "metadata": {},
   "outputs": [],
   "source": [
    "import numpy as np\n",
    "import pandas as pd"
   ]
  },
  {
   "cell_type": "markdown",
   "metadata": {},
   "source": [
    "### Numpy Data Types\n",
    "Numpy has the following data types: \n",
    "- ```int```\n",
    "- ```float```\n",
    "- ```complex```\n",
    "- ```bool```\n",
    "- ```string```\n",
    "- ```unicode```\n",
    "- ```object```\n",
    "\n",
    "The numeric data types have various precisions like 32-bit or 64-bit. \n",
    "\n",
    "Numpy data types can be represented using either __Type__ or __Type Code__"
   ]
  },
  {
   "cell_type": "code",
   "execution_count": 2,
   "metadata": {},
   "outputs": [
    {
     "data": {
      "text/html": [
       "<div>\n",
       "<style scoped>\n",
       "    .dataframe tbody tr th:only-of-type {\n",
       "        vertical-align: middle;\n",
       "    }\n",
       "\n",
       "    .dataframe tbody tr th {\n",
       "        vertical-align: top;\n",
       "    }\n",
       "\n",
       "    .dataframe thead th {\n",
       "        text-align: right;\n",
       "    }\n",
       "</style>\n",
       "<table border=\"1\" class=\"dataframe\">\n",
       "  <thead>\n",
       "    <tr style=\"text-align: right;\">\n",
       "      <th></th>\n",
       "      <th>Type</th>\n",
       "      <th>Type Code</th>\n",
       "    </tr>\n",
       "  </thead>\n",
       "  <tbody>\n",
       "    <tr>\n",
       "      <th>0</th>\n",
       "      <td>int8</td>\n",
       "      <td>i1</td>\n",
       "    </tr>\n",
       "    <tr>\n",
       "      <th>1</th>\n",
       "      <td>uint8</td>\n",
       "      <td>u1</td>\n",
       "    </tr>\n",
       "    <tr>\n",
       "      <th>2</th>\n",
       "      <td>int16</td>\n",
       "      <td>i2</td>\n",
       "    </tr>\n",
       "    <tr>\n",
       "      <th>3</th>\n",
       "      <td>uint16</td>\n",
       "      <td>u2</td>\n",
       "    </tr>\n",
       "    <tr>\n",
       "      <th>4</th>\n",
       "      <td>int or int32</td>\n",
       "      <td>i4 or i</td>\n",
       "    </tr>\n",
       "    <tr>\n",
       "      <th>5</th>\n",
       "      <td>uint32</td>\n",
       "      <td>u4</td>\n",
       "    </tr>\n",
       "    <tr>\n",
       "      <th>6</th>\n",
       "      <td>int64</td>\n",
       "      <td>i8</td>\n",
       "    </tr>\n",
       "    <tr>\n",
       "      <th>7</th>\n",
       "      <td>uint64</td>\n",
       "      <td>u8</td>\n",
       "    </tr>\n",
       "    <tr>\n",
       "      <th>8</th>\n",
       "      <td>float16</td>\n",
       "      <td>f2</td>\n",
       "    </tr>\n",
       "    <tr>\n",
       "      <th>9</th>\n",
       "      <td>float32</td>\n",
       "      <td>f4 or f</td>\n",
       "    </tr>\n",
       "    <tr>\n",
       "      <th>10</th>\n",
       "      <td>float or float64</td>\n",
       "      <td>f8 or d</td>\n",
       "    </tr>\n",
       "    <tr>\n",
       "      <th>11</th>\n",
       "      <td>float128</td>\n",
       "      <td>f16 or g</td>\n",
       "    </tr>\n",
       "    <tr>\n",
       "      <th>12</th>\n",
       "      <td>complex64</td>\n",
       "      <td>c8</td>\n",
       "    </tr>\n",
       "    <tr>\n",
       "      <th>13</th>\n",
       "      <td>complex or complex128</td>\n",
       "      <td>c16</td>\n",
       "    </tr>\n",
       "    <tr>\n",
       "      <th>14</th>\n",
       "      <td>bool</td>\n",
       "      <td>None</td>\n",
       "    </tr>\n",
       "    <tr>\n",
       "      <th>15</th>\n",
       "      <td>object</td>\n",
       "      <td>O</td>\n",
       "    </tr>\n",
       "    <tr>\n",
       "      <th>16</th>\n",
       "      <td>string_</td>\n",
       "      <td>S</td>\n",
       "    </tr>\n",
       "    <tr>\n",
       "      <th>17</th>\n",
       "      <td>unicode_</td>\n",
       "      <td>U</td>\n",
       "    </tr>\n",
       "  </tbody>\n",
       "</table>\n",
       "</div>"
      ],
      "text/plain": [
       "                     Type Type Code\n",
       "0                    int8        i1\n",
       "1                   uint8        u1\n",
       "2                   int16        i2\n",
       "3                  uint16        u2\n",
       "4            int or int32   i4 or i\n",
       "5                  uint32        u4\n",
       "6                   int64        i8\n",
       "7                  uint64        u8\n",
       "8                 float16        f2\n",
       "9                 float32   f4 or f\n",
       "10       float or float64   f8 or d\n",
       "11               float128  f16 or g\n",
       "12              complex64        c8\n",
       "13  complex or complex128       c16\n",
       "14                   bool      None\n",
       "15                 object         O\n",
       "16                string_         S\n",
       "17               unicode_         U"
      ]
     },
     "execution_count": 2,
     "metadata": {},
     "output_type": "execute_result"
    }
   ],
   "source": [
    "import pandas as pd \n",
    "\n",
    "dtypes = pd.DataFrame(\n",
    "    {\n",
    "        'Type': [\n",
    "            'int8', \n",
    "            'uint8', \n",
    "            'int16', \n",
    "            'uint16', \n",
    "            'int or int32', \n",
    "            'uint32', \n",
    "            'int64', \n",
    "            'uint64', \n",
    "            'float16', \n",
    "            'float32', \n",
    "            'float or float64',\n",
    "            'float128', \n",
    "            'complex64', \n",
    "            'complex or complex128', \n",
    "            'bool', \n",
    "            'object', \n",
    "            'string_',\n",
    "            'unicode_',\n",
    "        ],\n",
    "        \n",
    "        'Type Code': [\n",
    "            'i1', \n",
    "            'u1', \n",
    "            'i2', \n",
    "            'u2', \n",
    "            'i4 or i', \n",
    "            'u4', \n",
    "            'i8', \n",
    "            'u8', \n",
    "            'f2', \n",
    "            'f4 or f', \n",
    "            'f8 or d', \n",
    "            'f16 or g', \n",
    "            'c8', \n",
    "            'c16', \n",
    "            None, \n",
    "            'O', \n",
    "            'S', \n",
    "            'U',\n",
    "        ]\n",
    "    }\n",
    ")\n",
    "\n",
    "dtypes"
   ]
  },
  {
   "cell_type": "markdown",
   "metadata": {},
   "source": [
    "Data types can be defined at creating the numpy array and converted to other types later. \n",
    "\n",
    "You can use either _type, type code_ or _```np``` dot_ methods to define the data type of an array, but when you use ```np``` dot method to define the data type, it can only follow _type_ rather than _type code_."
   ]
  },
  {
   "cell_type": "code",
   "execution_count": 8,
   "metadata": {},
   "outputs": [
    {
     "name": "stdout",
     "output_type": "stream",
     "text": [
      "int32\n",
      "4\n"
     ]
    }
   ],
   "source": [
    "import numpy \n",
    "\n",
    "# Creating numpy array of integers \n",
    "ar1 = numpy.array([999,456,345,890])\n",
    "\n",
    "# Checking for the data type in numpy arrays\n",
    "print(ar1.dtype)\n",
    "\n",
    "# Checking for the storage space used\n",
    "print(ar1.itemsize)"
   ]
  },
  {
   "cell_type": "code",
   "execution_count": 9,
   "metadata": {},
   "outputs": [
    {
     "name": "stdout",
     "output_type": "stream",
     "text": [
      "float64\n",
      "8\n"
     ]
    }
   ],
   "source": [
    "# Creating numpy array of floats\n",
    "ar1 = numpy.array([99.9,45.6,34.5,89.0])\n",
    "\n",
    "# Checking for the data type in numpy arrays\n",
    "print(ar1.dtype)\n",
    "\n",
    "# Checking for the storage space used\n",
    "print(ar1.itemsize)"
   ]
  },
  {
   "cell_type": "code",
   "execution_count": 10,
   "metadata": {},
   "outputs": [
    {
     "name": "stdout",
     "output_type": "stream",
     "text": [
      "complex128\n",
      "16\n"
     ]
    }
   ],
   "source": [
    "# Creating numpy array of complex numners\n",
    "ar1 = numpy.array([9+4j,4-6j])\n",
    "\n",
    "# Checking for the data type in numpy arrays\n",
    "print(ar1.dtype)\n",
    "\n",
    "# Checking for the storage space used\n",
    "print(ar1.itemsize)"
   ]
  },
  {
   "cell_type": "code",
   "execution_count": 11,
   "metadata": {},
   "outputs": [
    {
     "name": "stdout",
     "output_type": "stream",
     "text": [
      "<U6\n",
      "24\n"
     ]
    }
   ],
   "source": [
    "# Creating numpy array of string\n",
    "ar1 = numpy.array(['apple','banana','papaya'])\n",
    "\n",
    "# Checking for the data type in numpy arrays\n",
    "print(ar1.dtype)\n",
    "\n",
    "# Checking for the storage space used\n",
    "print(ar1.itemsize)"
   ]
  },
  {
   "cell_type": "code",
   "execution_count": 12,
   "metadata": {},
   "outputs": [
    {
     "name": "stdout",
     "output_type": "stream",
     "text": [
      "bool\n",
      "1\n"
     ]
    }
   ],
   "source": [
    "# Creating numpy array of boolean values\n",
    "ar1 = numpy.array([True,True,False])\n",
    "\n",
    "# Checking for the data type in numpy arrays\n",
    "print(ar1.dtype)\n",
    "\n",
    "# Checking for the storage space used\n",
    "print(ar1.itemsize)"
   ]
  },
  {
   "cell_type": "markdown",
   "metadata": {},
   "source": [
    "## Changing data type in Numpy arrays\n",
    "\n",
    "### 1. Changing data type while creating numpy arrays"
   ]
  },
  {
   "cell_type": "code",
   "execution_count": 13,
   "metadata": {},
   "outputs": [
    {
     "name": "stdout",
     "output_type": "stream",
     "text": [
      "int32\n",
      "4\n",
      "int8\n",
      "1\n"
     ]
    }
   ],
   "source": [
    "import numpy \n",
    "\n",
    "# Creating numpy array of integers \n",
    "ar1 = numpy.array([999,456,345,890])\n",
    "\n",
    "# Checking for the data type in numpy arrays\n",
    "print(ar1.dtype)\n",
    "\n",
    "# Checking for the storage\n",
    "print(ar1.itemsize)\n",
    "\n",
    "#--------------------------------------------------#\n",
    "\n",
    "# Changing data type: from int32 to int8\n",
    "\n",
    "ar1 = numpy.array([999,456,345,890], dtype='int8')\n",
    "\n",
    "# Checking for the data type after change\n",
    "print(ar1.dtype)\n",
    "\n",
    "# Checking for the storage after change\n",
    "print(ar1.itemsize)"
   ]
  },
  {
   "cell_type": "code",
   "execution_count": 15,
   "metadata": {},
   "outputs": [
    {
     "name": "stdout",
     "output_type": "stream",
     "text": [
      "int32\n",
      "4\n",
      "float16\n",
      "2\n"
     ]
    }
   ],
   "source": [
    "import numpy \n",
    "\n",
    "# Creating numpy array of integers \n",
    "ar1 = numpy.array([999,456,345,890])\n",
    "\n",
    "# Checking for the data type: from integer to float\n",
    "print(ar1.dtype)\n",
    "\n",
    "# Checking for the storage\n",
    "print(ar1.itemsize)\n",
    "\n",
    "#--------------------------------------------------#\n",
    "\n",
    "# Changing data type: from int32 to int8\n",
    "\n",
    "ar1 = numpy.array([999,456,345,890], dtype='float16')\n",
    "\n",
    "# Checking for the data type after change\n",
    "print(ar1.dtype)\n",
    "\n",
    "# Checking for the storage after change\n",
    "print(ar1.itemsize)"
   ]
  },
  {
   "cell_type": "code",
   "execution_count": 18,
   "metadata": {},
   "outputs": [
    {
     "name": "stdout",
     "output_type": "stream",
     "text": [
      "int32\n",
      "4\n",
      "complex64\n",
      "8\n"
     ]
    }
   ],
   "source": [
    "import numpy \n",
    "\n",
    "# Creating numpy array of integers \n",
    "ar1 = numpy.array([999,456,345,890])\n",
    "\n",
    "# Checking for the data type: from integer to complex\n",
    "print(ar1.dtype)\n",
    "\n",
    "# Checking for the storage\n",
    "print(ar1.itemsize)\n",
    "\n",
    "#--------------------------------------------------#\n",
    "\n",
    "# Changing data type: from int32 to int8\n",
    "\n",
    "ar1 = numpy.array([999,456,345,890], dtype='complex64')\n",
    "\n",
    "# Checking for the data type after change\n",
    "print(ar1.dtype)\n",
    "\n",
    "# Checking for the storage after change\n",
    "print(ar1.itemsize)"
   ]
  },
  {
   "cell_type": "markdown",
   "metadata": {},
   "source": [
    "### 2. Changing data type while creating numpy arrays"
   ]
  },
  {
   "cell_type": "code",
   "execution_count": 24,
   "metadata": {},
   "outputs": [
    {
     "name": "stdout",
     "output_type": "stream",
     "text": [
      "Data type:  float64\n",
      "complex128\n"
     ]
    }
   ],
   "source": [
    "numpy_array5 = numpy.array([[4.5,5.6],[6.5,7.9]])\n",
    "\n",
    "print(\"Data type: \", numpy_array5.dtype)\n",
    "\n",
    "# Changing data type\n",
    "\n",
    "numpy_array6 = numpy_array5.astype(complex)\n",
    "\n",
    "print(numpy_array6.dtype)"
   ]
  },
  {
   "cell_type": "markdown",
   "metadata": {},
   "source": [
    "__WARNING__: be cautious about data overflow when you downcast the data type (from higher precision to lower precision). Some unexpected and undefined values might occur and it is usually difficult to debug such issues. "
   ]
  },
  {
   "cell_type": "markdown",
   "metadata": {},
   "source": [
    "### String and Unicode Data Type"
   ]
  },
  {
   "cell_type": "markdown",
   "metadata": {},
   "source": [
    "The ```string_``` and ```unicode_``` data types are all implicitly _fixed-length_. \n",
    "\n",
    "The length of the string is given by their type code appended with a number. For example, ```S3``` represents string of length 3; ```U10``` represents unicode of length 10. Otherwise, the default length is the length of the longest string in the array.\n",
    "\n",
    "If the length of a string in the array is shorter than the length of the data type defined or converted to, the string will be truncated."
   ]
  },
  {
   "cell_type": "code",
   "execution_count": 25,
   "metadata": {},
   "outputs": [
    {
     "name": "stdout",
     "output_type": "stream",
     "text": [
      "Data Type:  <U6\n"
     ]
    }
   ],
   "source": [
    "numpy_array7 = numpy.array(['apple','banana'])\n",
    "\n",
    "print(\"Data Type: \", numpy_array7.dtype)"
   ]
  },
  {
   "cell_type": "code",
   "execution_count": 31,
   "metadata": {},
   "outputs": [
    {
     "name": "stdout",
     "output_type": "stream",
     "text": [
      "Data Type:  <U1\n"
     ]
    }
   ],
   "source": [
    "numpy_array7a = numpy.array(['apple','banana'], dtype='U1')\n",
    "\n",
    "print(\"Data Type: \", numpy_array7a.dtype)"
   ]
  },
  {
   "cell_type": "code",
   "execution_count": null,
   "metadata": {},
   "outputs": [],
   "source": [
    "### Home work"
   ]
  }
 ],
 "metadata": {
  "kernelspec": {
   "display_name": "Python 3 (ipykernel)",
   "language": "python",
   "name": "python3"
  },
  "language_info": {
   "codemirror_mode": {
    "name": "ipython",
    "version": 3
   },
   "file_extension": ".py",
   "mimetype": "text/x-python",
   "name": "python",
   "nbconvert_exporter": "python",
   "pygments_lexer": "ipython3",
   "version": "3.9.12"
  }
 },
 "nbformat": 4,
 "nbformat_minor": 2
}
