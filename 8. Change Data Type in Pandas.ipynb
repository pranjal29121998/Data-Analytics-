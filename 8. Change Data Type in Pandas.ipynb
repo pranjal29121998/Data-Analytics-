{
 "cells": [
  {
   "cell_type": "markdown",
   "id": "90b74a22",
   "metadata": {},
   "source": [
    "## Different Ways to Change Data Type in Pandas\n",
    "\n",
    "While working in Pandas DataFrame or any table-like data structures we are often required to chang the data type(dtype) of a column also called type casting, for example, convert from int to string, string to int e.t.c, \n",
    "\n",
    "In pandas, you can do this by using several methods like ```astype()```, ```to_numeric()```, ```covert_dttypes()```, ```infer_objects()``` and e.t.c. \n",
    "\n",
    "In today's class, I will explain different examples of how to change or convert the data type in Pandas DataFrame – convert all columns to a specific type, convert single or multiple column types – convert to numeric types e.t.c.\n",
    "\n",
    "### 1. Quick Examples of Changing Data Type\n",
    "\n",
    "Below are some quick examples of converting column data type on Pandas DataFrame."
   ]
  },
  {
   "cell_type": "code",
   "execution_count": 2,
   "id": "7659fdce",
   "metadata": {},
   "outputs": [],
   "source": [
    "# Quick Examples of Converting Data Types in Pandas\n",
    "df2=df.convert_dtypes()\n",
    "df = df.astype(str)\n",
    "df = df.astype({\"Fee\": int, \"Discount\": float})\n",
    "df = df.astype({\"Courses\": int},errors='ignore')\n",
    "df = df.infer_objects()\n",
    "df['Fee'] = pd.to_numeric(df['Fee'])\n",
    "df[['Fee', 'Discount']] =df [['Fee', 'Discount']].apply(pd.to_numeric)"
   ]
  },
  {
   "cell_type": "markdown",
   "id": "ec9d2675",
   "metadata": {},
   "source": [
    "**Now let’s see with an example. first, create a Pandas DataFrame with columns names Courses, Fee, Duration, Discount.**"
   ]
  },
  {
   "cell_type": "code",
   "execution_count": 3,
   "id": "ee9e9d67",
   "metadata": {},
   "outputs": [
    {
     "name": "stdout",
     "output_type": "stream",
     "text": [
      "Courses       object\n",
      "Fee            int64\n",
      "Duration      object\n",
      "Discount     float64\n",
      "dtype: object\n"
     ]
    }
   ],
   "source": [
    "import pandas as pd\n",
    "technologies = {\n",
    "    'Courses':[\"Spark\",\"PySpark\",\"Hadoop\",\"Python\",\"pandas\",\"Oracle\",\"Java\"],\n",
    "    'Fee' :[20000,25000,26000,22000,24000,21000,22000],\n",
    "    'Duration ':['30day','40days','35days', '40days','60days','50days','55days'],\n",
    "    'Discount':[11.8,23.7,13.4,15.7,12.5,25.4,18.4]\n",
    "    }\n",
    "df = pd.DataFrame(technologies)\n",
    "print(df.dtypes)"
   ]
  },
  {
   "cell_type": "markdown",
   "id": "ed3cf993",
   "metadata": {},
   "source": [
    "### 2. DataFrame.convert_dtypes() to Convert Data Type in Pandas\n",
    "\n",
    "```convert_dtypes()``` is available in Pandas DataFrame since version 1.0.0, this is the most used method as it automatically converts the column types to best possible types.\n",
    "\n",
    "Below is the Syntax of the pandas.DataFrame.convert_dtypes().\n",
    "\n",
    "    # Syntax of DataFrame.convert_dtypes\n",
    "    DataFrame.convert_dtypes(infer_objects=True, convert_string=True,\n",
    "      convert_integer=True, convert_boolean=True, convert_floating=True)"
   ]
  },
  {
   "cell_type": "code",
   "execution_count": 4,
   "id": "61cd407b",
   "metadata": {},
   "outputs": [
    {
     "name": "stdout",
     "output_type": "stream",
     "text": [
      "Courses       string\n",
      "Fee            Int64\n",
      "Duration      string\n",
      "Discount     Float64\n",
      "dtype: object\n"
     ]
    }
   ],
   "source": [
    "# Convert all types to best possible types\n",
    "df2=df.convert_dtypes()\n",
    "print(df2.dtypes)"
   ]
  },
  {
   "cell_type": "code",
   "execution_count": 5,
   "id": "d4952774",
   "metadata": {},
   "outputs": [
    {
     "name": "stdout",
     "output_type": "stream",
     "text": [
      "Courses       object\n",
      "Fee           object\n",
      "Duration      object\n",
      "Discount     float64\n",
      "dtype: object\n"
     ]
    }
   ],
   "source": [
    "import pandas as pd\n",
    "technologies = {\n",
    "    'Courses':[\"Spark\",\"PySpark\",\"Hadoop\",\"Python\",\"pandas\",\"Oracle\",\"Java\"],\n",
    "    'Fee' :['20000','25000','26000','22000','24000','21000','22000'],\n",
    "    'Duration ':['30day','40days','35days', '40days','60days','50days','55days'],\n",
    "    'Discount':[11.8,23.7,13.4,15.7,12.5,25.4,18.4]\n",
    "    }\n",
    "df = pd.DataFrame(technologies)\n",
    "print(df.dtypes)"
   ]
  },
  {
   "cell_type": "code",
   "execution_count": 6,
   "id": "d07a88ba",
   "metadata": {},
   "outputs": [
    {
     "name": "stdout",
     "output_type": "stream",
     "text": [
      "Courses       string\n",
      "Fee           string\n",
      "Duration      string\n",
      "Discount     Float64\n",
      "dtype: object\n"
     ]
    }
   ],
   "source": [
    "# Convert all types to best possible types\n",
    "df2=df.convert_dtypes()\n",
    "print(df2.dtypes)"
   ]
  },
  {
   "cell_type": "markdown",
   "id": "439b200a",
   "metadata": {},
   "source": [
    "### 3. DataFrame.astype() to Change Data Type in Pandas\n",
    "\n",
    "In pandas DataFrame use <a href=\"https://pandas.pydata.org/docs/reference/api/pandas.DataFrame.astype.html#\">DataFrame.astype()</a> to convert one type to another type of single or multiple columns at a time, you can also use it to change all column types to the same type. When you perform astype() on a DataFrame without specifying a column name, it changes all columns to a specific type. To convert a specific column, you need to explicitly specify the column.\n",
    "\n",
    "Below is the syntax of pandas.DataFrame.astype()\n",
    "\n",
    "\n",
    "#### Below is syntax of DataFrame.astype()\n",
    "DataFrame.astype(dtype, copy=True, errors='raise')\n",
    "\n",
    "#### 3.1 Change All Columns to Same type in Pandas\n",
    "    df.astype(str) converts all columns of Pandas DataFrame to string type."
   ]
  },
  {
   "cell_type": "code",
   "execution_count": 8,
   "id": "d6aeb4e9",
   "metadata": {},
   "outputs": [
    {
     "data": {
      "text/plain": [
       "Courses       string\n",
       "Fee            int32\n",
       "Duration      string\n",
       "Discount     Float64\n",
       "dtype: object"
      ]
     },
     "execution_count": 8,
     "metadata": {},
     "output_type": "execute_result"
    }
   ],
   "source": [
    "# Change a specific Columns to Some type\n",
    "\n",
    "df2 = df2.astype({'Fee':int})\n",
    "df2.dtypes"
   ]
  },
  {
   "cell_type": "code",
   "execution_count": 9,
   "id": "bd14b396",
   "metadata": {},
   "outputs": [
    {
     "name": "stdout",
     "output_type": "stream",
     "text": [
      "Courses      object\n",
      "Fee          object\n",
      "Duration     object\n",
      "Discount     object\n",
      "dtype: object\n"
     ]
    }
   ],
   "source": [
    "# Change All Columns to Same type\n",
    "df3 = df.astype(str)\n",
    "print(df3.dtypes)"
   ]
  },
  {
   "cell_type": "markdown",
   "id": "8e666675",
   "metadata": {},
   "source": [
    "### 3.2 Change Type For One or Multiple Columns in Pandas\n",
    "\n",
    "On astype() Specify the param as JSON notation with column name as key and type you wanted to convert as a value to change one or multiple columns. Below example cast DataFrame column Fee to int type and Discount to float type."
   ]
  },
  {
   "cell_type": "code",
   "execution_count": 10,
   "id": "d4d2573e",
   "metadata": {},
   "outputs": [
    {
     "name": "stdout",
     "output_type": "stream",
     "text": [
      "Courses       object\n",
      "Fee            int32\n",
      "Duration      object\n",
      "Discount     float64\n",
      "dtype: object\n"
     ]
    }
   ],
   "source": [
    "# Change Type For One or Multiple Columns\n",
    "df4 = df.astype({\"Fee\": int, \"Discount\": float})\n",
    "print(df4.dtypes)"
   ]
  },
  {
   "cell_type": "markdown",
   "id": "683a1c46",
   "metadata": {},
   "source": [
    "### 3.3 Convert Data Type for All Columns in a List\n",
    "\n",
    "Sometimes you may need to convert a list of DataFrame columns to a specific type, you can achieve this in several ways. Below are 3 different ways that coverts columns Fee and Discount to float type."
   ]
  },
  {
   "cell_type": "code",
   "execution_count": 12,
   "id": "55282ee7",
   "metadata": {},
   "outputs": [
    {
     "name": "stdout",
     "output_type": "stream",
     "text": [
      "Courses       object\n",
      "Fee          float64\n",
      "Duration      object\n",
      "Discount     float64\n",
      "dtype: object\n",
      "Courses       object\n",
      "Fee          float64\n",
      "Duration      object\n",
      "Discount     float64\n",
      "dtype: object\n",
      "Courses       object\n",
      "Fee          float64\n",
      "Duration      object\n",
      "Discount     float64\n",
      "dtype: object\n"
     ]
    }
   ],
   "source": [
    "# Convert Data Type for All Columns in a List\n",
    "df = pd.DataFrame(technologies)\n",
    "cols = ['Fee', 'Discount']\n",
    "df[cols] = df[cols].astype('float')\n",
    "print(df.dtypes)\n",
    "\n",
    "# By using a loop\n",
    "for col in ['Fee', 'Discount']:\n",
    "    df[col] = df[col].astype('float')\n",
    "print(df.dtypes)\n",
    "\n",
    "#By using apply() & astype() together\n",
    "df[['Fee', 'Discount']].apply(lambda x: x.astype('float'))\n",
    "print(df.dtypes)"
   ]
  },
  {
   "cell_type": "markdown",
   "id": "4259d258",
   "metadata": {},
   "source": [
    "### 4. Using DataFrame.to_numeric() to Convert Numeric Types\n",
    "\n",
    "pandas.to_numeric() is used to convert columns with non-numeric dtypes to the most suitable numeric type.\n",
    "\n",
    "### 4.1 Convert Numeric Types\n",
    "\n",
    "The below example just converts Fee column to the numeric type."
   ]
  },
  {
   "cell_type": "code",
   "execution_count": 10,
   "id": "35993104",
   "metadata": {},
   "outputs": [
    {
     "data": {
      "text/html": [
       "<div>\n",
       "<style scoped>\n",
       "    .dataframe tbody tr th:only-of-type {\n",
       "        vertical-align: middle;\n",
       "    }\n",
       "\n",
       "    .dataframe tbody tr th {\n",
       "        vertical-align: top;\n",
       "    }\n",
       "\n",
       "    .dataframe thead th {\n",
       "        text-align: right;\n",
       "    }\n",
       "</style>\n",
       "<table border=\"1\" class=\"dataframe\">\n",
       "  <thead>\n",
       "    <tr style=\"text-align: right;\">\n",
       "      <th></th>\n",
       "      <th>Courses</th>\n",
       "      <th>Fee</th>\n",
       "      <th>Duration</th>\n",
       "      <th>Discount</th>\n",
       "    </tr>\n",
       "  </thead>\n",
       "  <tbody>\n",
       "    <tr>\n",
       "      <th>0</th>\n",
       "      <td>Spark</td>\n",
       "      <td>20000</td>\n",
       "      <td>30day</td>\n",
       "      <td>11.8</td>\n",
       "    </tr>\n",
       "    <tr>\n",
       "      <th>1</th>\n",
       "      <td>PySpark</td>\n",
       "      <td>25000</td>\n",
       "      <td>40days</td>\n",
       "      <td>23.7</td>\n",
       "    </tr>\n",
       "    <tr>\n",
       "      <th>2</th>\n",
       "      <td>Hadoop</td>\n",
       "      <td>26000</td>\n",
       "      <td>35days</td>\n",
       "      <td>13.4</td>\n",
       "    </tr>\n",
       "    <tr>\n",
       "      <th>3</th>\n",
       "      <td>Python</td>\n",
       "      <td>22000</td>\n",
       "      <td>40days</td>\n",
       "      <td>15.7</td>\n",
       "    </tr>\n",
       "    <tr>\n",
       "      <th>4</th>\n",
       "      <td>pandas</td>\n",
       "      <td>24000</td>\n",
       "      <td>60days</td>\n",
       "      <td>12.5</td>\n",
       "    </tr>\n",
       "    <tr>\n",
       "      <th>5</th>\n",
       "      <td>Oracle</td>\n",
       "      <td>21000</td>\n",
       "      <td>50days</td>\n",
       "      <td>25.4</td>\n",
       "    </tr>\n",
       "    <tr>\n",
       "      <th>6</th>\n",
       "      <td>Java</td>\n",
       "      <td>22000</td>\n",
       "      <td>55days</td>\n",
       "      <td>18.4</td>\n",
       "    </tr>\n",
       "  </tbody>\n",
       "</table>\n",
       "</div>"
      ],
      "text/plain": [
       "   Courses    Fee Duration   Discount\n",
       "0    Spark  20000     30day      11.8\n",
       "1  PySpark  25000    40days      23.7\n",
       "2   Hadoop  26000    35days      13.4\n",
       "3   Python  22000    40days      15.7\n",
       "4   pandas  24000    60days      12.5\n",
       "5   Oracle  21000    50days      25.4\n",
       "6     Java  22000    55days      18.4"
      ]
     },
     "execution_count": 10,
     "metadata": {},
     "output_type": "execute_result"
    }
   ],
   "source": [
    "# Converts fee column to numeric type\n",
    "df['Fee'] = pd.to_numeric(df['Fee'])\n",
    "df"
   ]
  },
  {
   "cell_type": "code",
   "execution_count": 13,
   "id": "4de8d579",
   "metadata": {},
   "outputs": [
    {
     "name": "stdout",
     "output_type": "stream",
     "text": [
      "Courses       object\n",
      "Fee           object\n",
      "Duration      object\n",
      "Discount     float64\n",
      "dtype: object\n"
     ]
    }
   ],
   "source": [
    "technologies = {\n",
    "    'Courses':[\"Spark\",\"PySpark\",\"Hadoop\",\"Python\",\"pandas\",\"Oracle\",\"Java\"],\n",
    "    'Fee' :['20000','25000','26000','22000','24000','21000','22000'],\n",
    "    'Duration ':['30day','40days','35days', '40days','60days','50days','55days'],\n",
    "    'Discount':[11.8,23.7,13.4,15.7,12.5,25.4,18.4]\n",
    "    }\n",
    "df = pd.DataFrame(technologies)\n",
    "print(df.dtypes)"
   ]
  },
  {
   "cell_type": "code",
   "execution_count": 14,
   "id": "c370c943",
   "metadata": {},
   "outputs": [
    {
     "data": {
      "text/plain": [
       "Courses       object\n",
       "Fee            int64\n",
       "Duration      object\n",
       "Discount     float64\n",
       "dtype: object"
      ]
     },
     "execution_count": 14,
     "metadata": {},
     "output_type": "execute_result"
    }
   ],
   "source": [
    "df.Fee = pd.to_numeric(df.Fee)\n",
    "df.dtypes"
   ]
  },
  {
   "cell_type": "code",
   "execution_count": null,
   "id": "140afc10",
   "metadata": {},
   "outputs": [],
   "source": []
  }
 ],
 "metadata": {
  "kernelspec": {
   "display_name": "Python 3 (ipykernel)",
   "language": "python",
   "name": "python3"
  },
  "language_info": {
   "codemirror_mode": {
    "name": "ipython",
    "version": 3
   },
   "file_extension": ".py",
   "mimetype": "text/x-python",
   "name": "python",
   "nbconvert_exporter": "python",
   "pygments_lexer": "ipython3",
   "version": "3.9.12"
  }
 },
 "nbformat": 4,
 "nbformat_minor": 5
}
